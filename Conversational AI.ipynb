{
 "cells": [
  {
   "cell_type": "code",
   "execution_count": 1,
   "metadata": {},
   "outputs": [],
   "source": [
    "import pandas as pd\n",
    "import numpy as np\n",
    "from sklearn.metrics.pairwise import cosine_similarity\n",
    "from sklearn.feature_extraction.text import TfidfVectorizer\n",
    "import vosk\n",
    "import pyttsx3"
   ]
  },
  {
   "cell_type": "code",
   "execution_count": 2,
   "metadata": {},
   "outputs": [],
   "source": [
    "df = pd.read_csv('Conversations - Sheet1.csv')"
   ]
  },
  {
   "cell_type": "code",
   "execution_count": 3,
   "metadata": {},
   "outputs": [
    {
     "data": {
      "text/html": [
       "<div>\n",
       "<style scoped>\n",
       "    .dataframe tbody tr th:only-of-type {\n",
       "        vertical-align: middle;\n",
       "    }\n",
       "\n",
       "    .dataframe tbody tr th {\n",
       "        vertical-align: top;\n",
       "    }\n",
       "\n",
       "    .dataframe thead th {\n",
       "        text-align: right;\n",
       "    }\n",
       "</style>\n",
       "<table border=\"1\" class=\"dataframe\">\n",
       "  <thead>\n",
       "    <tr style=\"text-align: right;\">\n",
       "      <th></th>\n",
       "      <th>Sentences</th>\n",
       "      <th>Intent</th>\n",
       "      <th>Responses</th>\n",
       "    </tr>\n",
       "  </thead>\n",
       "  <tbody>\n",
       "    <tr>\n",
       "      <th>0</th>\n",
       "      <td>Good Morning</td>\n",
       "      <td>Greeting</td>\n",
       "      <td>Good morning. How are you today?</td>\n",
       "    </tr>\n",
       "    <tr>\n",
       "      <th>1</th>\n",
       "      <td>I am fine</td>\n",
       "      <td>Greeting</td>\n",
       "      <td>Oh. great, That is good to hear. How can i hel...</td>\n",
       "    </tr>\n",
       "    <tr>\n",
       "      <th>2</th>\n",
       "      <td>Thank you</td>\n",
       "      <td>Greeting</td>\n",
       "      <td>You are welcome, is there anything you would l...</td>\n",
       "    </tr>\n",
       "    <tr>\n",
       "      <th>3</th>\n",
       "      <td>How are you?</td>\n",
       "      <td>Greeting</td>\n",
       "      <td>I am fine. Thank you and you?</td>\n",
       "    </tr>\n",
       "    <tr>\n",
       "      <th>4</th>\n",
       "      <td>Good bye</td>\n",
       "      <td>goodbye</td>\n",
       "      <td>goodbye</td>\n",
       "    </tr>\n",
       "  </tbody>\n",
       "</table>\n",
       "</div>"
      ],
      "text/plain": [
       "      Sentences    Intent                                          Responses\n",
       "0  Good Morning  Greeting                   Good morning. How are you today?\n",
       "1     I am fine  Greeting  Oh. great, That is good to hear. How can i hel...\n",
       "2     Thank you  Greeting  You are welcome, is there anything you would l...\n",
       "3  How are you?  Greeting                      I am fine. Thank you and you?\n",
       "4      Good bye   goodbye                                            goodbye"
      ]
     },
     "execution_count": 3,
     "metadata": {},
     "output_type": "execute_result"
    }
   ],
   "source": [
    "df.head()"
   ]
  },
  {
   "cell_type": "code",
   "execution_count": 4,
   "metadata": {},
   "outputs": [],
   "source": [
    "def get_response(text):\n",
    "    user_speech = [text]\n",
    "    sentences = list(df['Sentences']) + user_speech\n",
    "    bag_of_words = TfidfVectorizer().fit_transform(sentences)\n",
    "#     print(sentences)\n",
    "    similarity_scores = cosine_similarity(bag_of_words)\n",
    "    similarity_scores = similarity_scores[-1][:-1]\n",
    "    idx = np.argmax(similarity_scores)\n",
    "    score = np.max(similarity_scores)\n",
    "    if score >=0.6:\n",
    "        row = df.iloc[idx]\n",
    "        response = row['Responses']\n",
    "        intent = row['Intent']\n",
    "    else:\n",
    "        response = \"\"\"I'm sorry, i don't understand. Can you rephrase your statement, i'm just a bot undergoing training\"\"\"\n",
    "        intent = None\n",
    "    return (response,intent)\n",
    "    "
   ]
  },
  {
   "cell_type": "code",
   "execution_count": 5,
   "metadata": {},
   "outputs": [
    {
     "data": {
      "text/plain": [
       "('Good Evening. How are you today?', 'Greeting')"
      ]
     },
     "execution_count": 5,
     "metadata": {},
     "output_type": "execute_result"
    }
   ],
   "source": [
    "get_response('Good evening')"
   ]
  },
  {
   "cell_type": "code",
   "execution_count": 6,
   "metadata": {},
   "outputs": [],
   "source": [
    "def speak(text):\n",
    "    engine = pyttsx3.init()\n",
    "    rate = engine.getProperty('rate')\n",
    "    engine.setProperty('rate', rate-30)\n",
    "    engine.say(text)\n",
    "    engine.runAndWait()"
   ]
  },
  {
   "cell_type": "code",
   "execution_count": 7,
   "metadata": {},
   "outputs": [],
   "source": [
    "speak(get_response(\"\"))"
   ]
  },
  {
   "cell_type": "code",
   "execution_count": 8,
   "metadata": {},
   "outputs": [
    {
     "name": "stdout",
     "output_type": "stream",
     "text": [
      "################################################################################\n",
      "Press Ctrl+C to stop the recording\n",
      "################################################################################\n",
      " Me: pay good money\n",
      "Bot: I'm sorry, i don't understand. Can you rephrase your statement, i'm just a bot undergoing training\n",
      " Me: good morning\n",
      "Bot: Good morning. How are you today?\n",
      " Me: i am fine and you\n",
      "Bot: Oh. great, That is good to hear. How can i help you?\n",
      " Me: \n",
      "Bot: I'm sorry, i don't understand. Can you rephrase your statement, i'm just a bot undergoing training\n",
      " Me: \n",
      "Bot: I'm sorry, i don't understand. Can you rephrase your statement, i'm just a bot undergoing training\n",
      " Me: the good bye\n",
      "Bot: goodbye\n"
     ]
    }
   ],
   "source": [
    "import argparse\n",
    "import os\n",
    "import queue\n",
    "import sounddevice as sd\n",
    "import vosk\n",
    "import sys\n",
    "import ast\n",
    "import json\n",
    "\n",
    "q = queue.Queue()\n",
    "\n",
    "def int_or_str(text):\n",
    "    \"\"\"Helper function for argument parsing.\"\"\"\n",
    "    try:\n",
    "        return int(text)\n",
    "    except ValueError:\n",
    "        return text\n",
    "\n",
    "def callback(indata, frames, time, status):\n",
    "    \"\"\"This is called (from a separate thread) for each audio block.\"\"\"\n",
    "    if status:\n",
    "        print(status, file=sys.stderr)\n",
    "    q.put(bytes(indata))\n",
    "\n",
    "parser = argparse.ArgumentParser(add_help=False)\n",
    "parser.add_argument(\n",
    "    '-l', '--list-devices', action='store_true',\n",
    "    help='show list of audio devices and exit')\n",
    "args, remaining = parser.parse_known_args()\n",
    "if args.list_devices:\n",
    "    print(sd.query_devices())\n",
    "    parser.exit(0)\n",
    "parser = argparse.ArgumentParser(\n",
    "    description=__doc__,\n",
    "    formatter_class=argparse.RawDescriptionHelpFormatter,\n",
    "    parents=[parser])\n",
    "parser.add_argument(\n",
    "    '-f', '--filename', type=str, metavar='FILENAME',\n",
    "    help='audio file to store recording to')\n",
    "parser.add_argument(\n",
    "    '-m', '--model', type=str, metavar='MODEL_PATH',\n",
    "    help='Path to the model')\n",
    "parser.add_argument(\n",
    "    '-d', '--device', type=int_or_str,\n",
    "    help='input device (numeric ID or substring)')\n",
    "parser.add_argument(\n",
    "    '-r', '--samplerate', type=int, help='sampling rate')\n",
    "args = parser.parse_args(remaining)\n",
    "\n",
    "try:\n",
    "    if args.model is None:\n",
    "        args.model = \"model\"\n",
    "    if not os.path.exists(args.model):\n",
    "        print (\"Please download a model for your language from https://alphacephei.com/vosk/models\")\n",
    "        print (\"and unpack as 'model' in the current folder.\")\n",
    "        parser.exit(0)\n",
    "    if args.samplerate is None:\n",
    "        device_info = sd.query_devices(args.device, 'input')\n",
    "        # soundfile expects an int, sounddevice provides a float:\n",
    "        args.samplerate = int(device_info['default_samplerate'])\n",
    "\n",
    "    model = vosk.Model(args.model)\n",
    "\n",
    "    if args.filename:\n",
    "        dump_fn = open(args.filename, \"wb\")\n",
    "    else:\n",
    "        dump_fn = None\n",
    "\n",
    "    with sd.RawInputStream(samplerate=args.samplerate, blocksize = 8000, device=args.device, dtype='int16',\n",
    "                            channels=1, callback=callback):\n",
    "            print('#' * 80)\n",
    "            print('Press Ctrl+C to stop the recording')\n",
    "            print('#' * 80)\n",
    "\n",
    "            rec = vosk.KaldiRecognizer(model, args.samplerate)\n",
    "            while True:\n",
    "                data = q.get()\n",
    "                if rec.AcceptWaveform(data):\n",
    "                    speech =json.loads (rec.Result())['text']\n",
    "                    #result = json.loads(result)['text']\n",
    "                    print(f' Me: {speech}')\n",
    "#                     print(type(result))\n",
    "                    reply, intention = get_response(speech)\n",
    "                    print(f'Bot: {reply}')\n",
    "                    speak(reply)\n",
    "                    with q.mutex:\n",
    "                        q.queue.clear()\n",
    "                    if intention != None:\n",
    "                        if intention.lower()==\"goodbye\" or intention.lower()==\"good bye\":\n",
    "                            break\n",
    "                          \n",
    "#                 else:\n",
    "#                     print(rec.PartialResult().split()[-1])\n",
    "#                 if dump_fn is not None:\n",
    "#                     dump_fn.write(data)\n",
    "\n",
    "except KeyboardInterrupt:\n",
    "    print('\\nDone')\n",
    "    parser.exit(0)\n",
    "except Exception as e:\n",
    "    parser.exit(type(e).__name__ + ': ' + str(e))"
   ]
  },
  {
   "cell_type": "code",
   "execution_count": null,
   "metadata": {},
   "outputs": [],
   "source": []
  },
  {
   "cell_type": "code",
   "execution_count": null,
   "metadata": {},
   "outputs": [],
   "source": []
  }
 ],
 "metadata": {
  "kernelspec": {
   "display_name": "Python 3",
   "language": "python",
   "name": "python3"
  },
  "language_info": {
   "codemirror_mode": {
    "name": "ipython",
    "version": 3
   },
   "file_extension": ".py",
   "mimetype": "text/x-python",
   "name": "python",
   "nbconvert_exporter": "python",
   "pygments_lexer": "ipython3",
   "version": "3.8.5"
  }
 },
 "nbformat": 4,
 "nbformat_minor": 4
}
